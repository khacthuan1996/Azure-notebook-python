{
  "cells": [
    {
      "metadata": {
        "collapsed": true,
        "trusted": false
      },
      "cell_type": "code",
      "source": "import math\na = int(input())\nb = int(input())\nc = int(input())\n\nif a == 0:\n    if b == 0:\n        if c == 0:\n            print('Vô số nghiệm')\n        else:\n            print(0)\n    else:\n        if c == 0:\n            print(1)\n        elif -c/b > 0:\n            print(2)\n        else:\n            print(0)\nelse:\n    denta = b**2 - 4*a*c\n    if denta < 0:\n        print(0)\n    elif denta == 0:\n        if b == 0:\n            print(1)\n        elif -b/a > 0:\n            print(2)\n        else:\n            print(0)\n    else:\n        if c/a < 0:\n            print(2)\n        elif c == 0:\n            if -b/a > 0:\n                print(3)\n            else:\n                print(1)\n        else:\n            if -b/a < 0:\n                print(0)\n            else:\n                print(4)",
      "execution_count": null,
      "outputs": []
    }
  ],
  "metadata": {
    "kernelspec": {
      "name": "python3",
      "display_name": "Python 3",
      "language": "python"
    },
    "language_info": {
      "mimetype": "text/x-python",
      "nbconvert_exporter": "python",
      "name": "python",
      "pygments_lexer": "ipython3",
      "version": "3.5.4",
      "file_extension": ".py",
      "codemirror_mode": {
        "version": 3,
        "name": "ipython"
      }
    }
  },
  "nbformat": 4,
  "nbformat_minor": 2
}