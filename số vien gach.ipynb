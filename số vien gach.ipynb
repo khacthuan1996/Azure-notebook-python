{
  "cells": [
    {
      "metadata": {
        "trusted": true
      },
      "cell_type": "code",
      "source": "m = int(input())\nn = int(input())\ngach = 0.1**2\nday = m*n/gach\na = day + 2*((10*m/0.01-m/0.1)+(10*n/0.01-n/0.1)) - 4*(10/0.1-1)\nprint(int(a))",
      "execution_count": 6,
      "outputs": [
        {
          "output_type": "stream",
          "name": "stdout",
          "text": "2\n5\n14464\n"
        }
      ]
    },
    {
      "metadata": {
        "trusted": true,
        "scrolled": true
      },
      "cell_type": "code",
      "source": "\"win\".isalpha()",
      "execution_count": 5,
      "outputs": [
        {
          "output_type": "execute_result",
          "execution_count": 5,
          "data": {
            "text/plain": "True"
          },
          "metadata": {}
        }
      ]
    },
    {
      "metadata": {
        "trusted": true,
        "scrolled": true
      },
      "cell_type": "code",
      "source": "type(\"win\")",
      "execution_count": 10,
      "outputs": [
        {
          "output_type": "execute_result",
          "execution_count": 10,
          "data": {
            "text/plain": "str"
          },
          "metadata": {}
        }
      ]
    },
    {
      "metadata": {
        "trusted": true
      },
      "cell_type": "code",
      "source": "def _thunghiem(a,b):\n    print(\"Hello\")\n    \n    \n_thunghiem(4,6)    ",
      "execution_count": 51,
      "outputs": [
        {
          "output_type": "stream",
          "text": "Hello\n",
          "name": "stdout"
        }
      ]
    },
    {
      "metadata": {
        "trusted": true
      },
      "cell_type": "code",
      "source": "def xinchao(ten):\n    print(ten)\nxinchao(\"b\")",
      "execution_count": 21,
      "outputs": [
        {
          "output_type": "stream",
          "text": "b\n",
          "name": "stdout"
        }
      ]
    },
    {
      "metadata": {
        "trusted": true
      },
      "cell_type": "code",
      "source": "print(\"Toi yeu\", \"\\n\" + '18')",
      "execution_count": 26,
      "outputs": [
        {
          "output_type": "stream",
          "text": "Toi yeu \n18\n",
          "name": "stdout"
        }
      ]
    },
    {
      "metadata": {
        "trusted": true
      },
      "cell_type": "code",
      "source": "print(3>0 & 4>2)",
      "execution_count": 32,
      "outputs": [
        {
          "output_type": "stream",
          "text": "False\n",
          "name": "stdout"
        }
      ]
    },
    {
      "metadata": {
        "trusted": true,
        "scrolled": true
      },
      "cell_type": "code",
      "source": "def isCD(a,b,k):\n    #type your code below\n    m = a%k\n    n = b%k\n    return(m==0 and n==0)\na=int(input())\nb=int(input())\nk=int(input())\nprint(isCD(a,b,k))",
      "execution_count": 49,
      "outputs": [
        {
          "output_type": "stream",
          "name": "stdout",
          "text": "40\n5\n2\nTrue\n"
        }
      ]
    },
    {
      "metadata": {
        "trusted": true
      },
      "cell_type": "code",
      "source": "def sayHello():\n print('Hello World!')\nsayHello()\nsayHello() ",
      "execution_count": 50,
      "outputs": [
        {
          "output_type": "stream",
          "text": "Hello World!\nHello World!\n",
          "name": "stdout"
        }
      ]
    }
  ],
  "metadata": {
    "kernelspec": {
      "name": "python3",
      "display_name": "Python 3",
      "language": "python"
    },
    "language_info": {
      "mimetype": "text/x-python",
      "nbconvert_exporter": "python",
      "name": "python",
      "pygments_lexer": "ipython3",
      "version": "3.5.4",
      "file_extension": ".py",
      "codemirror_mode": {
        "version": 3,
        "name": "ipython"
      }
    }
  },
  "nbformat": 4,
  "nbformat_minor": 2
}