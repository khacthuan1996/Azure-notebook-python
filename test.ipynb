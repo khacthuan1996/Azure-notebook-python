{
  "cells": [
    {
      "metadata": {
        "trusted": true
      },
      "cell_type": "code",
      "source": "so_tien = \"300\"\nif so_tien.isdigit():\n    print(so_tien, \"la mot con so! \")  \nprint(\"Hello World\")    ",
      "execution_count": 6,
      "outputs": [
        {
          "output_type": "stream",
          "text": "300 la mot con so! \nHello World\n",
          "name": "stdout"
        }
      ]
    },
    {
      "metadata": {
        "trusted": true
      },
      "cell_type": "code",
      "source": "\"a\" > \"Anh\"",
      "execution_count": 7,
      "outputs": [
        {
          "output_type": "execute_result",
          "execution_count": 7,
          "data": {
            "text/plain": "True"
          },
          "metadata": {}
        }
      ]
    },
    {
      "metadata": {
        "trusted": true
      },
      "cell_type": "code",
      "source": "thu = \"thu hai\"\nprint(thu.capitalize())\n",
      "execution_count": 12,
      "outputs": [
        {
          "output_type": "stream",
          "text": "Thu hai\n",
          "name": "stdout"
        }
      ]
    },
    {
      "metadata": {
        "trusted": true
      },
      "cell_type": "code",
      "source": "if dap_so == 3:\n    return \"Chinh xac!\"\nelif response <= 0: #chi duoc thuc hien/kiem tra neu dap_so==3 tra ve False\n    return \"Chinh xac!\"\nelse:\n    return \"Sai roi\" ",
      "execution_count": 15,
      "outputs": [
        {
          "output_type": "error",
          "ename": "SyntaxError",
          "evalue": "'return' outside function (<ipython-input-15-cc5cadcabdc8>, line 2)",
          "traceback": [
            "\u001b[0;36m  File \u001b[0;32m\"<ipython-input-15-cc5cadcabdc8>\"\u001b[0;36m, line \u001b[0;32m2\u001b[0m\n\u001b[0;31m    return \"Chinh xac!\"\u001b[0m\n\u001b[0m    ^\u001b[0m\n\u001b[0;31mSyntaxError\u001b[0m\u001b[0;31m:\u001b[0m 'return' outside function\n"
          ]
        }
      ]
    },
    {
      "metadata": {
        "trusted": true
      },
      "cell_type": "code",
      "source": "not(2 == 3)",
      "execution_count": 16,
      "outputs": [
        {
          "output_type": "execute_result",
          "execution_count": 16,
          "data": {
            "text/plain": "True"
          },
          "metadata": {}
        }
      ]
    },
    {
      "metadata": {
        "trusted": true
      },
      "cell_type": "code",
      "source": "\"True\".isdigit() == 0",
      "execution_count": 18,
      "outputs": [
        {
          "output_type": "execute_result",
          "execution_count": 18,
          "data": {
            "text/plain": "True"
          },
          "metadata": {}
        }
      ]
    },
    {
      "metadata": {
        "trusted": true
      },
      "cell_type": "code",
      "source": "doan_so = \"8 9 10\"\n\nso = \"8\" #gia su nguoi dung nhap vaob voi ham input()\n\nif doan_so.isdigit() == False:\n    print(\"Ban phai nhap mot chuoi ky tu so nguyen! \")",
      "execution_count": 21,
      "outputs": [
        {
          "output_type": "stream",
          "text": "Ban phai nhap mot chuoi ky tu so nguyen! \n",
          "name": "stdout"
        }
      ]
    },
    {
      "metadata": {
        "trusted": true
      },
      "cell_type": "code",
      "source": "x = input()\ntap_hop = \"o e u i a\"\nc = x in tap_hop\nprint(c)",
      "execution_count": 26,
      "outputs": [
        {
          "output_type": "stream",
          "name": "stdout",
          "text": "t\nFalse\n"
        }
      ]
    },
    {
      "metadata": {
        "trusted": true
      },
      "cell_type": "code",
      "source": "if (9 < 0) and (0 < -9):\n    print(\"hello\")\nelif (9 > 0) or False:\n    print(\"good\")\nelse:\n    print(\"bad\")",
      "execution_count": 27,
      "outputs": [
        {
          "output_type": "stream",
          "text": "good\n",
          "name": "stdout"
        }
      ]
    },
    {
      "metadata": {
        "trusted": true
      },
      "cell_type": "code",
      "source": "(9 > 0)\n",
      "execution_count": 29,
      "outputs": [
        {
          "output_type": "execute_result",
          "execution_count": 29,
          "data": {
            "text/plain": "True"
          },
          "metadata": {}
        }
      ]
    },
    {
      "metadata": {
        "trusted": true
      },
      "cell_type": "code",
      "source": "print(True or False)",
      "execution_count": 40,
      "outputs": [
        {
          "output_type": "stream",
          "text": "True\n",
          "name": "stdout"
        }
      ]
    },
    {
      "metadata": {
        "trusted": true
      },
      "cell_type": "code",
      "source": "x = -1\nif x < 0:\n    print(\"-\")\nelse:\n    if y >= 0:\n        print(\"+/+\")\n    else:\n        print(\"+/-\")",
      "execution_count": 2,
      "outputs": [
        {
          "output_type": "stream",
          "text": "-\n",
          "name": "stdout"
        }
      ]
    },
    {
      "metadata": {
        "trusted": true
      },
      "cell_type": "code",
      "source": "a = int(input())\nb = int(input())\nc = int(input())\nd = int(input())\nlon = a\nif b > lon :\n lon = b\nelif c > lon:\n lon = c\nelif d > lon:\n lon = d\nprint(lon) ",
      "execution_count": 3,
      "outputs": [
        {
          "output_type": "stream",
          "name": "stdout",
          "text": "2\n3\n4\n5\n3\n"
        }
      ]
    },
    {
      "metadata": {
        "trusted": true
      },
      "cell_type": "code",
      "source": "\"true\" == \"true\"",
      "execution_count": 5,
      "outputs": [
        {
          "output_type": "execute_result",
          "execution_count": 5,
          "data": {
            "text/plain": "True"
          },
          "metadata": {}
        }
      ]
    },
    {
      "metadata": {
        "trusted": true
      },
      "cell_type": "code",
      "source": "x = 6\nstr(x) in \"1 3 5 6 8\"",
      "execution_count": 6,
      "outputs": [
        {
          "output_type": "execute_result",
          "execution_count": 6,
          "data": {
            "text/plain": "True"
          },
          "metadata": {}
        }
      ]
    },
    {
      "metadata": {
        "trusted": true
      },
      "cell_type": "code",
      "source": "d = int(input())\nm = int(input())\ny = int(input())\ndef nam_nhuan(a):\n if (a%4 == 0 and a%100 != 0) or (a%100 == 0 and a%400 == 0):\n  return 1\n  \nif d < 28:\n print(d+1,m,y)\nelif d == 28:\n if d != 2:\n  print(d+1,m,y)\n else:\n  if nam_nhuan(y) == 1:\n   print(d+1,m,y)\n  else:\n   print(1,m+1,y)\nelif d == 29:\n if m == 2:\n  print(1,3,y+1)\n else:\n  print(d+1,m,y)\nelif d == 30:\n if str(m) in \"1 3 5 7 8 10 12\":\n  print(d+1,m,y)\n else:\n  print(1,m+1,y)\nelse:\n if d == 12:\n  print(1,1,y+1)\n else:\n  print(1,d+1,y)",
      "execution_count": 10,
      "outputs": [
        {
          "output_type": "stream",
          "name": "stdout",
          "text": "29\n2\n1996\n1 3 1997\n"
        }
      ]
    },
    {
      "metadata": {
        "trusted": true
      },
      "cell_type": "code",
      "source": "def kiemTra_Ten(name):\n    answer = \"\"\n    while answer.isalpha() == False:\n        answer = input(\"Nhập tên: \")\n    return answer.lower() == name.lower()\nkiemTra_Ten(\"thuan\")\n",
      "execution_count": 1,
      "outputs": [
        {
          "output_type": "stream",
          "name": "stdout",
          "text": "Nhập tên: t2\nNhập tên: han\n"
        },
        {
          "output_type": "execute_result",
          "execution_count": 1,
          "data": {
            "text/plain": "False"
          },
          "metadata": {}
        }
      ]
    },
    {
      "metadata": {
        "trusted": true
      },
      "cell_type": "code",
      "source": "(\"\"+\"a\").isalpha()",
      "execution_count": 19,
      "outputs": [
        {
          "output_type": "execute_result",
          "execution_count": 19,
          "data": {
            "text/plain": "True"
          },
          "metadata": {}
        }
      ]
    },
    {
      "metadata": {
        "trusted": true
      },
      "cell_type": "code",
      "source": "i = int(input())\n((i%400==0) or (i%)\n",
      "execution_count": null,
      "outputs": []
    },
    {
      "metadata": {
        "trusted": true
      },
      "cell_type": "code",
      "source": "print(\"Quynh\")\nprint(\"\\nThuan\")",
      "execution_count": 25,
      "outputs": [
        {
          "output_type": "stream",
          "text": "Quynh\n\nThuan\n",
          "name": "stdout"
        }
      ]
    },
    {
      "metadata": {
        "trusted": true
      },
      "cell_type": "code",
      "source": "'''\nprint(\"Quynh\")\n\"\"\"\nprint('thuan')",
      "execution_count": 35,
      "outputs": [
        {
          "output_type": "stream",
          "text": "thuan\n",
          "name": "stdout"
        }
      ]
    },
    {
      "metadata": {
        "trusted": true
      },
      "cell_type": "code",
      "source": "n = int(input())\nk = int(input())\ntong = 0\nm = 0\ni = 0\nwhile i < n:\n if m%k == 0:\n  tong += m\n  i += 1\n m += 1 \nprint(tong) ",
      "execution_count": 39,
      "outputs": [
        {
          "output_type": "stream",
          "name": "stdout",
          "text": "65\n12\n24960\n"
        }
      ]
    },
    {
      "metadata": {
        "trusted": true,
        "scrolled": true
      },
      "cell_type": "code",
      "source": "uhello = u'Hello\\u0020World'\nprint(uhello)\n",
      "execution_count": 42,
      "outputs": [
        {
          "output_type": "stream",
          "text": "Hello World\n",
          "name": "stdout"
        }
      ]
    },
    {
      "metadata": {
        "trusted": true
      },
      "cell_type": "code",
      "source": "uhello = u'Hello\\u0020World'\nprint(uhello)\n",
      "execution_count": 46,
      "outputs": [
        {
          "output_type": "stream",
          "text": "Hello World\n",
          "name": "stdout"
        }
      ]
    },
    {
      "metadata": {
        "trusted": true
      },
      "cell_type": "code",
      "source": "print(type(2) == int )",
      "execution_count": 9,
      "outputs": [
        {
          "output_type": "stream",
          "text": "True\n",
          "name": "stdout"
        }
      ]
    },
    {
      "metadata": {
        "trusted": true
      },
      "cell_type": "code",
      "source": "s = input()\ndem = 0\nfor c in s:\n if type(c) == str:\n  dem += 1\nprint(dem)\n",
      "execution_count": 10,
      "outputs": [
        {
          "output_type": "stream",
          "name": "stdout",
          "text": "thuan1\n6\n"
        }
      ]
    },
    {
      "metadata": {
        "trusted": true
      },
      "cell_type": "code",
      "source": "i = \"a\"\nprint(i, end = \" \"\"25\")\nprint(i,\" \",\"25\")\nprint(5)",
      "execution_count": 16,
      "outputs": [
        {
          "output_type": "stream",
          "text": "a 25a   25\n5\n",
          "name": "stdout"
        }
      ]
    },
    {
      "metadata": {
        "trusted": true
      },
      "cell_type": "code",
      "source": "x = 'abcd'\nfor i in x:\n    print(i.upper()) ",
      "execution_count": 17,
      "outputs": [
        {
          "output_type": "stream",
          "text": "A\nB\nC\nD\n",
          "name": "stdout"
        }
      ]
    },
    {
      "metadata": {
        "trusted": true
      },
      "cell_type": "code",
      "source": "while True:\n a = float(input(\"Nhap vao so tu nhien: \"))\n if a > 0 and (a - int(a)) == 0 :\n        break",
      "execution_count": 1,
      "outputs": [
        {
          "output_type": "stream",
          "name": "stdout",
          "text": "Nhap vao so tu nhien: 2.5\nNhap vao so tu nhien: 3\n"
        }
      ]
    },
    {
      "metadata": {
        "trusted": true
      },
      "cell_type": "code",
      "source": "for i in range(3,7):\n print(i)",
      "execution_count": 3,
      "outputs": [
        {
          "output_type": "stream",
          "text": "3\n4\n5\n6\n",
          "name": "stdout"
        }
      ]
    },
    {
      "metadata": {
        "trusted": true
      },
      "cell_type": "code",
      "source": "fruits = ['Apple', 'Banana', 'Durian']\nfor fruit in fruits:\n print(fruit)",
      "execution_count": 4,
      "outputs": [
        {
          "output_type": "stream",
          "text": "Apple\nBanana\nDurian\n",
          "name": "stdout"
        }
      ]
    },
    {
      "metadata": {
        "trusted": true
      },
      "cell_type": "code",
      "source": "a = int(input())\nwhile True:\n    if a == 3:\n        end:\n    print(a)\n    a += 1",
      "execution_count": 6,
      "outputs": [
        {
          "output_type": "error",
          "ename": "SyntaxError",
          "evalue": "invalid syntax (<ipython-input-6-da115151105b>, line 4)",
          "traceback": [
            "\u001b[0;36m  File \u001b[0;32m\"<ipython-input-6-da115151105b>\"\u001b[0;36m, line \u001b[0;32m4\u001b[0m\n\u001b[0;31m    end:\u001b[0m\n\u001b[0m       ^\u001b[0m\n\u001b[0;31mSyntaxError\u001b[0m\u001b[0;31m:\u001b[0m invalid syntax\n"
          ]
        }
      ]
    },
    {
      "metadata": {
        "trusted": true
      },
      "cell_type": "code",
      "source": "s = input()\ndem = 0\nfor i in s:\n if i.isdigit():\n  dem += 1\nprint(dem)  ",
      "execution_count": 7,
      "outputs": [
        {
          "output_type": "stream",
          "name": "stdout",
          "text": "toi 1 la 2\n2\n"
        }
      ]
    },
    {
      "metadata": {
        "trusted": true
      },
      "cell_type": "code",
      "source": "a = input()\nb = input()\ns =\"\"\ns = a + b \nprint(s)",
      "execution_count": 10,
      "outputs": [
        {
          "output_type": "stream",
          "name": "stdout",
          "text": "to\ni\ntoi\n"
        }
      ]
    },
    {
      "metadata": {
        "trusted": true
      },
      "cell_type": "code",
      "source": "i = int(input())\na_1 = 10\na_2 = 25\na_3 = 30\nprint(a+'i')",
      "execution_count": 1,
      "outputs": [
        {
          "output_type": "stream",
          "name": "stdout",
          "text": "5\n"
        },
        {
          "output_type": "error",
          "ename": "NameError",
          "evalue": "name 'a' is not defined",
          "traceback": [
            "\u001b[0;31m---------------------------------------------------------------------------\u001b[0m",
            "\u001b[0;31mNameError\u001b[0m                                 Traceback (most recent call last)",
            "\u001b[0;32m<ipython-input-1-de7fe77cccd2>\u001b[0m in \u001b[0;36m<module>\u001b[0;34m()\u001b[0m\n\u001b[1;32m      3\u001b[0m \u001b[0ma_2\u001b[0m \u001b[0;34m=\u001b[0m \u001b[0;36m25\u001b[0m\u001b[0;34m\u001b[0m\u001b[0m\n\u001b[1;32m      4\u001b[0m \u001b[0ma_3\u001b[0m \u001b[0;34m=\u001b[0m \u001b[0;36m30\u001b[0m\u001b[0;34m\u001b[0m\u001b[0m\n\u001b[0;32m----> 5\u001b[0;31m \u001b[0mprint\u001b[0m\u001b[0;34m(\u001b[0m\u001b[0ma\u001b[0m\u001b[0;34m+\u001b[0m\u001b[0;34m'i'\u001b[0m\u001b[0;34m)\u001b[0m\u001b[0;34m\u001b[0m\u001b[0m\n\u001b[0m",
            "\u001b[0;31mNameError\u001b[0m: name 'a' is not defined"
          ]
        }
      ]
    },
    {
      "metadata": {
        "trusted": true
      },
      "cell_type": "code",
      "source": "a = int(input())\nb = int(input())\nc = int(input())\nd = int(input())\ndef so_sanh (a,b,c,d):\n if a > c :\n  return 1\n elif a == c :\n  if b >= d:\n   return 1\n  else:\n   return 0      \n else:\n  return 0\nso_sanh(a,b,c,d)",
      "execution_count": 1,
      "outputs": [
        {
          "output_type": "stream",
          "name": "stdout",
          "text": "16\n26\n16\n30\n"
        },
        {
          "output_type": "execute_result",
          "execution_count": 1,
          "data": {
            "text/plain": "0"
          },
          "metadata": {}
        }
      ]
    },
    {
      "metadata": {
        "trusted": true,
        "scrolled": true
      },
      "cell_type": "code",
      "source": "for i in range(0,n):\n dem = 0\n for j in range(0,n):\n  if (so_sanh(hour[j],minute[j],hour[i],minute[i]) == 1 and so_sanh(hour[j],minute[j],hour_den[i],minute_den[i]) == 0) or (so_sanh(hour_den[j],minute_den[j],hour[i],minute[i]) == 1 and so_sanh(hour_den[j],minute_den[j],hour_den[i],minute_den[i]) == 0 ) or ( hour_den[j] == hour_den[i] and minute_den[j] == minute_den[i]) :\n   dem += 1\n so_thuyen.append(dem) \nprint(max.so_thuyen)",
      "execution_count": 3,
      "outputs": [
        {
          "output_type": "error",
          "ename": "NameError",
          "evalue": "name 'n' is not defined",
          "traceback": [
            "\u001b[0;31m---------------------------------------------------------------------------\u001b[0m",
            "\u001b[0;31mNameError\u001b[0m                                 Traceback (most recent call last)",
            "\u001b[0;32m<ipython-input-3-33e12581be46>\u001b[0m in \u001b[0;36m<module>\u001b[0;34m()\u001b[0m\n\u001b[0;32m----> 1\u001b[0;31m \u001b[0;32mfor\u001b[0m \u001b[0mi\u001b[0m \u001b[0;32min\u001b[0m \u001b[0mrange\u001b[0m\u001b[0;34m(\u001b[0m\u001b[0;36m0\u001b[0m\u001b[0;34m,\u001b[0m\u001b[0mn\u001b[0m\u001b[0;34m)\u001b[0m\u001b[0;34m:\u001b[0m\u001b[0;34m\u001b[0m\u001b[0m\n\u001b[0m\u001b[1;32m      2\u001b[0m  \u001b[0mdem\u001b[0m \u001b[0;34m=\u001b[0m \u001b[0;36m0\u001b[0m\u001b[0;34m\u001b[0m\u001b[0m\n\u001b[1;32m      3\u001b[0m  \u001b[0;32mfor\u001b[0m \u001b[0mj\u001b[0m \u001b[0;32min\u001b[0m \u001b[0mrange\u001b[0m\u001b[0;34m(\u001b[0m\u001b[0;36m0\u001b[0m\u001b[0;34m,\u001b[0m\u001b[0mn\u001b[0m\u001b[0;34m)\u001b[0m\u001b[0;34m:\u001b[0m\u001b[0;34m\u001b[0m\u001b[0m\n\u001b[1;32m      4\u001b[0m   \u001b[0;32mif\u001b[0m \u001b[0;34m(\u001b[0m\u001b[0mso_sanh\u001b[0m\u001b[0;34m(\u001b[0m\u001b[0mhour\u001b[0m\u001b[0;34m[\u001b[0m\u001b[0mj\u001b[0m\u001b[0;34m]\u001b[0m\u001b[0;34m,\u001b[0m\u001b[0mminute\u001b[0m\u001b[0;34m[\u001b[0m\u001b[0mj\u001b[0m\u001b[0;34m]\u001b[0m\u001b[0;34m,\u001b[0m\u001b[0mhour\u001b[0m\u001b[0;34m[\u001b[0m\u001b[0mi\u001b[0m\u001b[0;34m]\u001b[0m\u001b[0;34m,\u001b[0m\u001b[0mminute\u001b[0m\u001b[0;34m[\u001b[0m\u001b[0mi\u001b[0m\u001b[0;34m]\u001b[0m\u001b[0;34m)\u001b[0m \u001b[0;34m==\u001b[0m \u001b[0;36m1\u001b[0m \u001b[0;32mand\u001b[0m \u001b[0mso_sanh\u001b[0m\u001b[0;34m(\u001b[0m\u001b[0mhour\u001b[0m\u001b[0;34m[\u001b[0m\u001b[0mj\u001b[0m\u001b[0;34m]\u001b[0m\u001b[0;34m,\u001b[0m\u001b[0mminute\u001b[0m\u001b[0;34m[\u001b[0m\u001b[0mj\u001b[0m\u001b[0;34m]\u001b[0m\u001b[0;34m,\u001b[0m\u001b[0mhour_den\u001b[0m\u001b[0;34m[\u001b[0m\u001b[0mi\u001b[0m\u001b[0;34m]\u001b[0m\u001b[0;34m,\u001b[0m\u001b[0mminute_den\u001b[0m\u001b[0;34m[\u001b[0m\u001b[0mi\u001b[0m\u001b[0;34m]\u001b[0m\u001b[0;34m)\u001b[0m \u001b[0;34m==\u001b[0m \u001b[0;36m0\u001b[0m\u001b[0;34m)\u001b[0m \u001b[0;32mor\u001b[0m \u001b[0;34m(\u001b[0m\u001b[0mso_sanh\u001b[0m\u001b[0;34m(\u001b[0m\u001b[0mhour_den\u001b[0m\u001b[0;34m[\u001b[0m\u001b[0mj\u001b[0m\u001b[0;34m]\u001b[0m\u001b[0;34m,\u001b[0m\u001b[0mminute_den\u001b[0m\u001b[0;34m[\u001b[0m\u001b[0mj\u001b[0m\u001b[0;34m]\u001b[0m\u001b[0;34m,\u001b[0m\u001b[0mhour\u001b[0m\u001b[0;34m[\u001b[0m\u001b[0mi\u001b[0m\u001b[0;34m]\u001b[0m\u001b[0;34m,\u001b[0m\u001b[0mminute\u001b[0m\u001b[0;34m[\u001b[0m\u001b[0mi\u001b[0m\u001b[0;34m]\u001b[0m\u001b[0;34m)\u001b[0m \u001b[0;34m==\u001b[0m \u001b[0;36m1\u001b[0m \u001b[0;32mand\u001b[0m \u001b[0mso_sanh\u001b[0m\u001b[0;34m(\u001b[0m\u001b[0mhour_den\u001b[0m\u001b[0;34m[\u001b[0m\u001b[0mj\u001b[0m\u001b[0;34m]\u001b[0m\u001b[0;34m,\u001b[0m\u001b[0mminute_den\u001b[0m\u001b[0;34m[\u001b[0m\u001b[0mj\u001b[0m\u001b[0;34m]\u001b[0m\u001b[0;34m,\u001b[0m\u001b[0mhour_den\u001b[0m\u001b[0;34m[\u001b[0m\u001b[0mi\u001b[0m\u001b[0;34m]\u001b[0m\u001b[0;34m,\u001b[0m\u001b[0mminute_den\u001b[0m\u001b[0;34m[\u001b[0m\u001b[0mi\u001b[0m\u001b[0;34m]\u001b[0m\u001b[0;34m)\u001b[0m \u001b[0;34m==\u001b[0m \u001b[0;36m0\u001b[0m \u001b[0;34m)\u001b[0m \u001b[0;32mor\u001b[0m \u001b[0;34m(\u001b[0m \u001b[0mhour_den\u001b[0m\u001b[0;34m[\u001b[0m\u001b[0mj\u001b[0m\u001b[0;34m]\u001b[0m \u001b[0;34m==\u001b[0m \u001b[0mhour_den\u001b[0m\u001b[0;34m[\u001b[0m\u001b[0mi\u001b[0m\u001b[0;34m]\u001b[0m \u001b[0;32mand\u001b[0m \u001b[0mminute_den\u001b[0m\u001b[0;34m[\u001b[0m\u001b[0mj\u001b[0m\u001b[0;34m]\u001b[0m \u001b[0;34m==\u001b[0m \u001b[0mminute_den\u001b[0m\u001b[0;34m[\u001b[0m\u001b[0mi\u001b[0m\u001b[0;34m]\u001b[0m\u001b[0;34m)\u001b[0m \u001b[0;34m:\u001b[0m\u001b[0;34m\u001b[0m\u001b[0m\n\u001b[1;32m      5\u001b[0m    \u001b[0mdem\u001b[0m \u001b[0;34m+=\u001b[0m \u001b[0;36m1\u001b[0m\u001b[0;34m\u001b[0m\u001b[0m\n",
            "\u001b[0;31mNameError\u001b[0m: name 'n' is not defined"
          ]
        }
      ]
    },
    {
      "metadata": {
        "trusted": true
      },
      "cell_type": "code",
      "source": "n = int(input())\nhour = []\nminute = []\nfor i in range(0,n):\n    hour.append(int(input()))\n    minute.append(int(input()))\n\n#type your code below\nhour_den = []\nminute_den= []\nfor i in range(0,n):\n  minute_1 = minute[i] + 20\n  hour_1 = hour[i]\n  if minute_1 >= 60 :\n    hour_1 += 1 \n    minute_1 -= 60\n  hour_den.append(hour_1) \n  minute_den.append(minute_1)\nso_thuyen = []\n\ndef so_sanh (a,b,c,d):\n if a > c :\n  return 1\n elif a == c :\n  if b >= d:\n   return 1\n  else:\n   return 0\n else:\n  return 0\n  \nfor i in range(0,n):\n dem = 0\n for j in range(0,n):\n  if (so_sanh(hour[j],minute[j],hour[i],minute[i]) == 1 and so_sanh(hour[j],minute[j],hour_den[i],minute_den[i]) == 0) or (so_sanh(hour_den[j],minute_den[j],hour[i],minute[i]) == 1 and so_sanh(hour_den[j],minute_den[j],hour_den[i],minute_den[i]) == 0 ) or ( hour_den[j] == hour_den[i] and minute_den[j] == minute_den[i]):\n   dem += 1\n so_thuyen.append(dem)\nprint(hour)\nprint(minute)\nprint(hour_den)\nprint(minute_den)    \nprint(max(so_thuyen))",
      "execution_count": 5,
      "outputs": [
        {
          "output_type": "stream",
          "name": "stdout",
          "text": "8\n15\n10\n23\n16\n7\n59\n8\n10\n14\n50\n15\n0\n15\n20\n18\n20\n[15, 23, 7, 8, 14, 15, 15, 18]\n[10, 16, 59, 10, 50, 0, 20, 20]\n[15, 23, 8, 8, 15, 15, 15, 18]\n[30, 36, 19, 30, 10, 20, 40, 40]\n4\n"
        }
      ]
    },
    {
      "metadata": {
        "trusted": true,
        "scrolled": true
      },
      "cell_type": "code",
      "source": "n = int(input())\nhour = []\nminute = []\nfor i in range(0,n):\n    hour.append(int(input()))\n    minute.append(int(input()))\n\n#type your code below\nhour_den = []\nminute_den= []\nfor i in range(0,n):\n  minute_1 = minute[i] + 20\n  hour_1 = hour[i]\n  if minute_1 >= 60 :\n    hour_1 += 1 \n    minute_1 -= 60\n  hour_den.append(hour_1) \n  minute_den.append(minute_1)\nprint(hour)\nprint(minute)\nprint(hour_den)\nprint(minute_den)",
      "execution_count": 4,
      "outputs": [
        {
          "output_type": "stream",
          "name": "stdout",
          "text": "6\n15\n28\n5\n59\n6\n0\n17\n5\n18\n50\n23\n10\n[15, 5, 6, 17, 18, 23]\n[28, 59, 0, 5, 50, 10]\n[15, 6, 6, 17, 19, 23]\n[48, 19, 20, 25, 10, 30]\n"
        }
      ]
    },
    {
      "metadata": {
        "trusted": true
      },
      "cell_type": "code",
      "source": "mang = [2,3,6,8,2,5,8]\nk = int(input(\"Nhap so k:\"))\nfor i in range(len(mang)):\n    if a[i] == k\n     return i\n    ",
      "execution_count": null,
      "outputs": []
    },
    {
      "metadata": {
        "trusted": true
      },
      "cell_type": "code",
      "source": "import math\ndef kiemtraNguyenTo(x):\n  if (x<=1):\n      return False\n  for i in range(2,int(math.sqrt(x))+1):\n    print(i)\n    if (x%i==0):\n        return False\n  return True\nx = int(input(\"Nhap so: \"))\nprint(kiemtraNguyenTo(x))",
      "execution_count": 14,
      "outputs": [
        {
          "output_type": "stream",
          "name": "stdout",
          "text": "Nhap so: 2\nTrue\n"
        }
      ]
    },
    {
      "metadata": {
        "trusted": true
      },
      "cell_type": "code",
      "source": "def sapxep(a):\n    n = len(a)\n    for i in range(n-1):\n        for j in range(i+1, n):\n            if (a[i]<a[j]):\n                   tam = a[i]\n                   a[i] = a[j]\n                   a[j] = tam\n    return a",
      "execution_count": null,
      "outputs": []
    },
    {
      "metadata": {
        "trusted": true
      },
      "cell_type": "code",
      "source": "def ucln(a,b): \n  print(a)\n  print(b)\n  if (a<b): \n      return ucln(b,a) \n  while (b!=0):\n    r = a%b \n    a=b\n    b=r\n  return a\na = int(input('Nhap so: '))\nb = int(input(\"Nhap so: \"))\nprint(ucln(a,b))",
      "execution_count": 11,
      "outputs": [
        {
          "output_type": "stream",
          "name": "stdout",
          "text": "Nhap so: 0\nNhap so: 4\n0\n4\n4\n0\n4\n"
        }
      ]
    },
    {
      "metadata": {
        "trusted": true
      },
      "cell_type": "code",
      "source": "max(2,5,6)\n",
      "execution_count": 2,
      "outputs": [
        {
          "output_type": "execute_result",
          "execution_count": 2,
          "data": {
            "text/plain": "6"
          },
          "metadata": {}
        }
      ]
    },
    {
      "metadata": {
        "trusted": true
      },
      "cell_type": "code",
      "source": "for i in range(2,1+1):\n    print(i)",
      "execution_count": 5,
      "outputs": []
    },
    {
      "metadata": {
        "trusted": true,
        "scrolled": true
      },
      "cell_type": "code",
      "source": "2/0",
      "execution_count": 12,
      "outputs": [
        {
          "output_type": "error",
          "ename": "ZeroDivisionError",
          "evalue": "division by zero",
          "traceback": [
            "\u001b[0;31m---------------------------------------------------------------------------\u001b[0m",
            "\u001b[0;31mZeroDivisionError\u001b[0m                         Traceback (most recent call last)",
            "\u001b[0;32m<ipython-input-12-e8326a161779>\u001b[0m in \u001b[0;36m<module>\u001b[0;34m()\u001b[0m\n\u001b[0;32m----> 1\u001b[0;31m \u001b[0;36m2\u001b[0m\u001b[0;34m/\u001b[0m\u001b[0;36m0\u001b[0m\u001b[0;34m\u001b[0m\u001b[0m\n\u001b[0m",
            "\u001b[0;31mZeroDivisionError\u001b[0m: division by zero"
          ]
        }
      ]
    },
    {
      "metadata": {
        "trusted": true
      },
      "cell_type": "code",
      "source": "a = int(input())\nb = int(input())\nimport math\ndef kiemtraNguyenTo(x):\n  if (x<=1):\n      return False\n  for i in range(2,int(math.sqrt(x))+1):\n    if (x%i==0):\n        return False\n  return True\ndem = 0  \nfor i in range(a,b+1):\n if kiemtraNguyenTo(i):\n     dem += 1\nprint(dem)     ",
      "execution_count": 15,
      "outputs": [
        {
          "output_type": "stream",
          "name": "stdout",
          "text": "3\n19\n7\n"
        }
      ]
    },
    {
      "metadata": {
        "trusted": true
      },
      "cell_type": "code",
      "source": "a = int(input())\nb = int(input())\ndef ucln(a,b): \n  if (a<b): \n      return ucln(b,a) \n  while (b!=0):\n    r = a%b \n    a=b\n    b=r\n  return a\nprint(a*b/ucln(a,b))  ",
      "execution_count": 18,
      "outputs": [
        {
          "output_type": "stream",
          "name": "stdout",
          "text": "4\n6\n12.0\n"
        }
      ]
    },
    {
      "metadata": {
        "trusted": true
      },
      "cell_type": "code",
      "source": "n = int(input()) * 2\nspeed = []\nfor i in range(0,n):\n    speed.append(int(input()))\n#type your code below\nfor i in range(0,n-1):\n for j in range(i+1,n):\n  if speed[i] > speed[j]:\n   tam = speed[i]\n   speed[i] = speed[j]\n   speed[j] = tam\ntong = 0\nfor i in range(0,n-1,2):\n tong += speed[i]\nprint(tong) ",
      "execution_count": 21,
      "outputs": [
        {
          "output_type": "stream",
          "name": "stdout",
          "text": "3\n81\n64\n42\n79\n82\n89\n203\n"
        }
      ]
    },
    {
      "metadata": {
        "trusted": true
      },
      "cell_type": "code",
      "source": "1st_string = 5\nprint(1st_string)",
      "execution_count": 24,
      "outputs": [
        {
          "output_type": "error",
          "ename": "SyntaxError",
          "evalue": "invalid syntax (<ipython-input-24-1a2f35c9b51c>, line 1)",
          "traceback": [
            "\u001b[0;36m  File \u001b[0;32m\"<ipython-input-24-1a2f35c9b51c>\"\u001b[0;36m, line \u001b[0;32m1\u001b[0m\n\u001b[0;31m    1st_string = 5\u001b[0m\n\u001b[0m             ^\u001b[0m\n\u001b[0;31mSyntaxError\u001b[0m\u001b[0;31m:\u001b[0m invalid syntax\n"
          ]
        }
      ]
    },
    {
      "metadata": {
        "trusted": true
      },
      "cell_type": "code",
      "source": "a = \"mai\"\nb = \"nai\"",
      "execution_count": 25,
      "outputs": []
    },
    {
      "metadata": {
        "trusted": true
      },
      "cell_type": "code",
      "source": "3 * 1 ** 3",
      "execution_count": 26,
      "outputs": [
        {
          "output_type": "execute_result",
          "execution_count": 26,
          "data": {
            "text/plain": "3"
          },
          "metadata": {}
        }
      ]
    },
    {
      "metadata": {
        "trusted": true
      },
      "cell_type": "code",
      "source": "print(4 / (3 * (2-1)))\nprint(4/3 * (2-1))\n",
      "execution_count": 49,
      "outputs": [
        {
          "output_type": "stream",
          "text": "1.3333333333333333\n1.3333333333333333\n",
          "name": "stdout"
        }
      ]
    },
    {
      "metadata": {
        "trusted": true
      },
      "cell_type": "code",
      "source": "def printMax(a, b):\n   if a > b:\n       print(a, 'is maximum')\n   elif a == b:\n       print(a, 'is equal to')\n   else:\n       print(b, 'is maximum')\nprintMax(3, 4)",
      "execution_count": 50,
      "outputs": [
        {
          "output_type": "stream",
          "text": "4 is maximum\n",
          "name": "stdout"
        }
      ]
    },
    {
      "metadata": {
        "trusted": true
      },
      "cell_type": "code",
      "source": "def say(message, times = 1):\n   print(message * times)\nsay('Hello')\nsay('World', 5)",
      "execution_count": 51,
      "outputs": [
        {
          "output_type": "stream",
          "text": "Hello\nWorldWorldWorldWorldWorld\n",
          "name": "stdout"
        }
      ]
    },
    {
      "metadata": {
        "trusted": true
      },
      "cell_type": "code",
      "source": "x = ['ab', 'cd']\nfor i in x:\n    print(i.upper())\ntype(x)",
      "execution_count": 1,
      "outputs": [
        {
          "output_type": "stream",
          "text": "AB\nCD\n",
          "name": "stdout"
        },
        {
          "output_type": "execute_result",
          "execution_count": 1,
          "data": {
            "text/plain": "list"
          },
          "metadata": {}
        }
      ]
    },
    {
      "metadata": {
        "trusted": true
      },
      "cell_type": "code",
      "source": "xin_chao = 'Xin chao' +'ban'",
      "execution_count": 56,
      "outputs": []
    },
    {
      "metadata": {
        "trusted": true
      },
      "cell_type": "code",
      "source": "\"2017! \".isdigit()",
      "execution_count": 57,
      "outputs": [
        {
          "output_type": "execute_result",
          "execution_count": 57,
          "data": {
            "text/plain": "False"
          },
          "metadata": {}
        }
      ]
    },
    {
      "metadata": {
        "trusted": true
      },
      "cell_type": "code",
      "source": "def 2_nam(a):\n    if a>2:\n        return 1",
      "execution_count": 59,
      "outputs": [
        {
          "output_type": "error",
          "ename": "SyntaxError",
          "evalue": "invalid syntax (<ipython-input-59-e5de8190bc53>, line 1)",
          "traceback": [
            "\u001b[0;36m  File \u001b[0;32m\"<ipython-input-59-e5de8190bc53>\"\u001b[0;36m, line \u001b[0;32m1\u001b[0m\n\u001b[0;31m    def 2_nam(a):\u001b[0m\n\u001b[0m        ^\u001b[0m\n\u001b[0;31mSyntaxError\u001b[0m\u001b[0;31m:\u001b[0m invalid syntax\n"
          ]
        }
      ]
    },
    {
      "metadata": {
        "trusted": true
      },
      "cell_type": "code",
      "source": "funct add_number(a,b):\n    return a+b",
      "execution_count": 61,
      "outputs": [
        {
          "output_type": "error",
          "ename": "SyntaxError",
          "evalue": "invalid syntax (<ipython-input-61-45119e925b44>, line 1)",
          "traceback": [
            "\u001b[0;36m  File \u001b[0;32m\"<ipython-input-61-45119e925b44>\"\u001b[0;36m, line \u001b[0;32m1\u001b[0m\n\u001b[0;31m    funct add_number(a,b):\u001b[0m\n\u001b[0m                   ^\u001b[0m\n\u001b[0;31mSyntaxError\u001b[0m\u001b[0;31m:\u001b[0m invalid syntax\n"
          ]
        }
      ]
    },
    {
      "metadata": {
        "trusted": true
      },
      "cell_type": "code",
      "source": "  \nname = input(\"enter your name: \")  \ngreet(name)  \ndef greet(person):  \n     print(\"Hi,\", person)  \ngreet(name)",
      "execution_count": 63,
      "outputs": [
        {
          "output_type": "stream",
          "name": "stdout",
          "text": "enter your name: thuan\n"
        },
        {
          "output_type": "error",
          "ename": "NameError",
          "evalue": "name 'greet' is not defined",
          "traceback": [
            "\u001b[0;31m---------------------------------------------------------------------------\u001b[0m",
            "\u001b[0;31mNameError\u001b[0m                                 Traceback (most recent call last)",
            "\u001b[0;32m<ipython-input-63-20ebc243c4c1>\u001b[0m in \u001b[0;36m<module>\u001b[0;34m()\u001b[0m\n\u001b[1;32m      1\u001b[0m \u001b[0;34m\u001b[0m\u001b[0m\n\u001b[1;32m      2\u001b[0m \u001b[0mname\u001b[0m \u001b[0;34m=\u001b[0m \u001b[0minput\u001b[0m\u001b[0;34m(\u001b[0m\u001b[0;34m\"enter your name: \"\u001b[0m\u001b[0;34m)\u001b[0m\u001b[0;34m\u001b[0m\u001b[0m\n\u001b[0;32m----> 3\u001b[0;31m \u001b[0mgreet\u001b[0m\u001b[0;34m(\u001b[0m\u001b[0mname\u001b[0m\u001b[0;34m)\u001b[0m\u001b[0;34m\u001b[0m\u001b[0m\n\u001b[0m\u001b[1;32m      4\u001b[0m \u001b[0;32mdef\u001b[0m \u001b[0mgreet\u001b[0m\u001b[0;34m(\u001b[0m\u001b[0mperson\u001b[0m\u001b[0;34m)\u001b[0m\u001b[0;34m:\u001b[0m\u001b[0;34m\u001b[0m\u001b[0m\n\u001b[1;32m      5\u001b[0m    \u001b[0mprint\u001b[0m\u001b[0;34m(\u001b[0m\u001b[0;34m\"Hi,\"\u001b[0m\u001b[0;34m,\u001b[0m \u001b[0mperson\u001b[0m\u001b[0;34m)\u001b[0m\u001b[0;34m\u001b[0m\u001b[0m\n",
            "\u001b[0;31mNameError\u001b[0m: name 'greet' is not defined"
          ]
        }
      ]
    },
    {
      "metadata": {
        "trusted": true
      },
      "cell_type": "code",
      "source": "print(\"hello\\nworld\")",
      "execution_count": 64,
      "outputs": [
        {
          "output_type": "stream",
          "text": "hello\nworld\n",
          "name": "stdout"
        }
      ]
    },
    {
      "metadata": {
        "trusted": true
      },
      "cell_type": "code",
      "source": "2+3",
      "execution_count": 66,
      "outputs": [
        {
          "output_type": "execute_result",
          "execution_count": 66,
          "data": {
            "text/plain": "5"
          },
          "metadata": {}
        }
      ]
    },
    {
      "metadata": {
        "trusted": true
      },
      "cell_type": "code",
      "source": "_nam@ = 2\nprint(_nam)",
      "execution_count": 70,
      "outputs": [
        {
          "output_type": "error",
          "ename": "SyntaxError",
          "evalue": "invalid syntax (<ipython-input-70-0eefa972f39d>, line 1)",
          "traceback": [
            "\u001b[0;36m  File \u001b[0;32m\"<ipython-input-70-0eefa972f39d>\"\u001b[0;36m, line \u001b[0;32m1\u001b[0m\n\u001b[0;31m    _nam@ = 2\u001b[0m\n\u001b[0m          ^\u001b[0m\n\u001b[0;31mSyntaxError\u001b[0m\u001b[0;31m:\u001b[0m invalid syntax\n"
          ]
        }
      ]
    },
    {
      "metadata": {
        "trusted": true
      },
      "cell_type": "code",
      "source": "2 >3 or 2<3",
      "execution_count": 72,
      "outputs": [
        {
          "output_type": "execute_result",
          "execution_count": 72,
          "data": {
            "text/plain": "True"
          },
          "metadata": {}
        }
      ]
    },
    {
      "metadata": {
        "trusted": true
      },
      "cell_type": "code",
      "source": "import math\nprint(math.pi)",
      "execution_count": 74,
      "outputs": [
        {
          "output_type": "stream",
          "text": "3.141592653589793\n",
          "name": "stdout"
        }
      ]
    },
    {
      "metadata": {
        "trusted": true,
        "collapsed": true
      },
      "cell_type": "code",
      "source": "n = int(input())\nimport math\ndef ktnt(x):\n  if (x<=1):\n      return False\n  for i in range(2,int(math.sqrt(x))+1):\n    if (x%i==0):\n        return False\n  return True\nmax = 2  \nfor i in range(3,n+1):\n if ktnt(i):\n  max = i\nprint(max)  ",
      "execution_count": 4,
      "outputs": [
        {
          "output_type": "stream",
          "name": "stdout",
          "text": "3\n3\n"
        }
      ]
    },
    {
      "metadata": {
        "trusted": true
      },
      "cell_type": "code",
      "source": "n = int(input())\nm = []\nfor i in range(n):\n   m.append(int(input()))\nb = m\nc = m\nprint(m)\nprint(b)\nprint(c)\ndef sapxep1(a):\n    n = len(a)\n    for i in range(n-1):\n        for j in range(i+1, n):\n            if (a[i]<a[j]):\n                   tam = a[i]\n                   a[i] = a[j]\n                   a[j] = tam\n    return a\n\ndef hai(a):\n    n = len(a)\n    for i in range(n-1):\n        for j in range(i+1, n):\n            if (a[i]>a[j]):\n                   tam = a[i]\n                   a[i] = a[j]\n                   a[j] = tam\n    return a \n\nprint(sapxep1(b))\nprint(m)\nprint(hai(c))\nprint(m)\ndef bangnhau(a):\n for i in range(n-1):\n     if a[i] == a[i+1]:\n         return False\n return True        \nif (m == b or m == c) and bangnhau(b) :\n    print('True')\nelse:\n    print('False')",
      "execution_count": 1,
      "outputs": [
        {
          "output_type": "stream",
          "name": "stdout",
          "text": "7\n-1\n6\n11\n17\n13\n21\n99\n[-1, 6, 11, 17, 13, 21, 99]\n[-1, 6, 11, 17, 13, 21, 99]\n[-1, 6, 11, 17, 13, 21, 99]\n[99, 21, 17, 13, 11, 6, -1]\n[99, 21, 17, 13, 11, 6, -1]\n[-1, 6, 11, 13, 17, 21, 99]\n[-1, 6, 11, 13, 17, 21, 99]\nTrue\n"
        }
      ]
    },
    {
      "metadata": {
        "trusted": true
      },
      "cell_type": "code",
      "source": "array(\"Toi yeu em\")",
      "execution_count": 2,
      "outputs": [
        {
          "output_type": "error",
          "ename": "NameError",
          "evalue": "name 'array' is not defined",
          "traceback": [
            "\u001b[0;31m---------------------------------------------------------------------------\u001b[0m",
            "\u001b[0;31mNameError\u001b[0m                                 Traceback (most recent call last)",
            "\u001b[0;32m<ipython-input-2-69bb6753f3df>\u001b[0m in \u001b[0;36m<module>\u001b[0;34m()\u001b[0m\n\u001b[0;32m----> 1\u001b[0;31m \u001b[0marray\u001b[0m\u001b[0;34m(\u001b[0m\u001b[0;34m\"Toi yeu em\"\u001b[0m\u001b[0;34m)\u001b[0m\u001b[0;34m\u001b[0m\u001b[0m\n\u001b[0m",
            "\u001b[0;31mNameError\u001b[0m: name 'array' is not defined"
          ]
        }
      ]
    },
    {
      "metadata": {
        "trusted": true
      },
      "cell_type": "code",
      "source": "n = int(input())\ndef giaithua(n):\n tich = 1\n for i in range(2,n+1):\n     tich *= i\n return tich    \ngiaithua(n)*5",
      "execution_count": 8,
      "outputs": [
        {
          "output_type": "stream",
          "name": "stdout",
          "text": "4\n"
        },
        {
          "output_type": "execute_result",
          "execution_count": 8,
          "data": {
            "text/plain": "120"
          },
          "metadata": {}
        }
      ]
    },
    {
      "metadata": {
        "trusted": true,
        "scrolled": true
      },
      "cell_type": "code",
      "source": "n = int(input())\nk = int(input())\ndef giaithua(n):\n tich = 1\n for i in range(2,n+1):\n     tich *= i\n return tich    \nprint(giaithua(n)//((giaithua(k)*giaithua(n-k))))    ",
      "execution_count": 13,
      "outputs": [
        {
          "output_type": "error",
          "ename": "SyntaxError",
          "evalue": "unexpected EOF while parsing (<ipython-input-13-22d9de4a6225>, line 8)",
          "traceback": [
            "\u001b[0;36m  File \u001b[0;32m\"<ipython-input-13-22d9de4a6225>\"\u001b[0;36m, line \u001b[0;32m8\u001b[0m\n\u001b[0;31m    print(giaithua(n)//((giaithua(k)*giaithua(n-k))\u001b[0m\n\u001b[0m                                                        ^\u001b[0m\n\u001b[0;31mSyntaxError\u001b[0m\u001b[0;31m:\u001b[0m unexpected EOF while parsing\n"
          ]
        }
      ]
    },
    {
      "metadata": {
        "trusted": true
      },
      "cell_type": "code",
      "source": "n = int(input())\nmax = 0\nso_thu_tu = 0\nfor i in range(1, n+1):\n   diem_hoc_sinh_i = int(input())\n   # do something ...\n   if diem_hoc_sinh_i >= max:\n       max = diem_hoc_sinh_i\n       so_thu_tu = i\nprint(i)       ",
      "execution_count": 2,
      "outputs": [
        {
          "output_type": "stream",
          "name": "stdout",
          "text": "2\n3\n4\n2\n"
        }
      ]
    },
    {
      "metadata": {
        "trusted": true
      },
      "cell_type": "code",
      "source": "n = 0\nn == 1\n",
      "execution_count": 3,
      "outputs": [
        {
          "output_type": "execute_result",
          "execution_count": 3,
          "data": {
            "text/plain": "False"
          },
          "metadata": {}
        }
      ]
    },
    {
      "metadata": {
        "trusted": true,
        "scrolled": true
      },
      "cell_type": "code",
      "source": "print(1 and True)",
      "execution_count": 1,
      "outputs": [
        {
          "output_type": "stream",
          "text": "True\n",
          "name": "stdout"
        }
      ]
    },
    {
      "metadata": {
        "trusted": true
      },
      "cell_type": "code",
      "source": "a = 12\nprint ('%r' %a)",
      "execution_count": 11,
      "outputs": [
        {
          "output_type": "stream",
          "text": "12\n",
          "name": "stdout"
        }
      ]
    },
    {
      "metadata": {
        "trusted": true
      },
      "cell_type": "code",
      "source": "class Employee:\n    id = 10\n    name = \"The Mac\"\n    def display (self):\n        print(self.id, self.name)\nexp = Employee(); exp.display()\na = int()\na",
      "execution_count": 20,
      "outputs": [
        {
          "output_type": "stream",
          "text": "10 The Mac\n",
          "name": "stdout"
        },
        {
          "output_type": "execute_result",
          "execution_count": 20,
          "data": {
            "text/plain": "0"
          },
          "metadata": {}
        }
      ]
    },
    {
      "metadata": {
        "trusted": true
      },
      "cell_type": "code",
      "source": "name = ['Vu Thanh Tai', 'Nguyen Van A', 'Nguyen Thi E']\nprint(name[0:])\nprint(name[:2])",
      "execution_count": 29,
      "outputs": [
        {
          "output_type": "stream",
          "text": "['Vu Thanh Tai', 'Nguyen Van A', 'Nguyen Thi E']\n['Vu Thanh Tai', 'Nguyen Van A']\n",
          "name": "stdout"
        }
      ]
    },
    {
      "metadata": {
        "trusted": true
      },
      "cell_type": "code",
      "source": "m = [\"2\", \"ba\", 3]\nprint(m)",
      "execution_count": 30,
      "outputs": [
        {
          "output_type": "stream",
          "text": "['2', 'ba', 3]\n",
          "name": "stdout"
        }
      ]
    }
  ],
  "metadata": {
    "kernelspec": {
      "name": "python3",
      "display_name": "Python 3",
      "language": "python"
    },
    "language_info": {
      "mimetype": "text/x-python",
      "nbconvert_exporter": "python",
      "name": "python",
      "file_extension": ".py",
      "version": "3.5.4",
      "pygments_lexer": "ipython3",
      "codemirror_mode": {
        "version": 3,
        "name": "ipython"
      }
    }
  },
  "nbformat": 4,
  "nbformat_minor": 2
}