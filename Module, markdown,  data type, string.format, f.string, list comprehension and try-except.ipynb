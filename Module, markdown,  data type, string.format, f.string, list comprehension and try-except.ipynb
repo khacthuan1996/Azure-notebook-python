{
  "cells": [
    {
      "metadata": {
        "trusted": true
      },
      "cell_type": "code",
      "source": "import datetime as dt\na = dt.datetime.today()#gọi module datetime as dt, rồi gọi class datetime trong module dt, tiếp là invoke(gọi) phương thức(hàm) 'today'\nprint(a)",
      "execution_count": 1,
      "outputs": [
        {
          "output_type": "stream",
          "text": "2020-02-24 16:14:20.963487\n",
          "name": "stdout"
        }
      ]
    },
    {
      "metadata": {
        "trusted": true
      },
      "cell_type": "code",
      "source": "dir(dt) #Hiển thị danh sách tất cả thuộc tính, phương thức, class của module datetime (đang được kí hiệu là dt)",
      "execution_count": 2,
      "outputs": [
        {
          "output_type": "execute_result",
          "execution_count": 2,
          "data": {
            "text/plain": "['MAXYEAR',\n 'MINYEAR',\n '__builtins__',\n '__cached__',\n '__doc__',\n '__file__',\n '__loader__',\n '__name__',\n '__package__',\n '__spec__',\n 'date',\n 'datetime',\n 'datetime_CAPI',\n 'time',\n 'timedelta',\n 'timezone',\n 'tzinfo']"
          },
          "metadata": {}
        }
      ]
    },
    {
      "metadata": {},
      "cell_type": "markdown",
      "source": "Các lớp thường được sử dụng trong module datetime là:\n\n- Class date\n- Class time\n- Class datetime\n- Class timedelta\n\n"
    },
    {
      "metadata": {},
      "cell_type": "markdown",
      "source": "# Markdown"
    },
    {
      "metadata": {},
      "cell_type": "raw",
      "source": "Trong code Markdown, phải xuống dòng 2 lần thì văn bản hiển thị mới xuống dòng một lần, hoặc có thể thêm vào cuối dòng <br> ( sau <bar> nhưng dữ liệu sau đều sẽ được hiển thị xuống dòng\nTuy nhiên sẽ không cần nếu: dòng đâu là 1 định dạng văn bản thường; dòng thứ 2 là định dạng danh sách không thứ tự ( chỉ cần thêm vào mỗi đầu dòng dấu - hay dấu + (như kiểu viết module datetime ngay ở trên), hoặc là định dạng danh sách thứ tự ( thêm mỗi đầu dòng một con số và một dấu chấm (ví dụ: 1., 2.). Không quan trọng số đó là bao nhiêu, Markdown sẽ tự đánh số lại hết )"
    },
    {
      "metadata": {},
      "cell_type": "raw",
      "source": "Bạn cũng có thể kết hợp dạng lồng ghép như sau:\n\n1. Item\n  1. Subitem\n  2. Subitem\n    1. subsub\n    2. subsub\n7. Item\n  - Subitem\n  - Subitem\n    - Subsubitem\n    - Subsubitem\nKết quả sẽ là: "
    },
    {
      "metadata": {},
      "cell_type": "markdown",
      "source": "1. Item\n  1. Subitem\n  2. Subitem\n    1. subsub\n    2. subsub\n7. Item\n  - Subitem\n  - Subitem\n    - Subsubitem\n    - Subsubitem"
    },
    {
      "metadata": {},
      "cell_type": "raw",
      "source": "Với markdown, code block sẽ phải được đặt trong\n```\n```\n\nVí dụ sau:\n```\nThis is a code block\ndir()\n```\nsẽ trả kết quả"
    },
    {
      "metadata": {},
      "cell_type": "markdown",
      "source": "\n```\nThis is a code block\ndir\n```\n"
    },
    {
      "metadata": {},
      "cell_type": "raw",
      "source": ". Test thêm chức năng inline( không xuống dòng) trong Markdown: $thứ muốn ghi$ \n. Chế độ Hiển thị display ( xuống dòng ): $$thứ muốn ghi$$\n. Ví dụ: \n  - tôi có công thức $E=mc^2$ , và $$i\\hbar {\\frac {\\partial }{\\partial t}}|\\psi (t)\\rangle ={\\hat {H}}|\\psi (t)\\rangle$$\n Với Mardown sẽ trả về"
    },
    {
      "metadata": {},
      "cell_type": "markdown",
      "source": "- tôi có công thức $E=mc^2$ , và $$i\\hbar {\\frac {\\partial }{\\partial t}}|\\psi (t)\\rangle ={\\hat {H}}|\\psi (t)\\rangle$$"
    },
    {
      "metadata": {
        "trusted": true
      },
      "cell_type": "code",
      "source": "today = dt.datetime.today() \nprint(today)\nprint(f\"{today:%B %d, %Y}\") #Sử dụng f-string cho xử lí chuỗi\n",
      "execution_count": 7,
      "outputs": [
        {
          "output_type": "stream",
          "text": "2020-02-24 18:47:13.313797\nFebruary 24, 2020\n",
          "name": "stdout"
        }
      ]
    },
    {
      "metadata": {
        "trusted": true
      },
      "cell_type": "code",
      "source": "'only one value: {1}'.format(1, 2)\n",
      "execution_count": 7,
      "outputs": [
        {
          "output_type": "execute_result",
          "execution_count": 7,
          "data": {
            "text/plain": "'only one value: 2'"
          },
          "metadata": {}
        }
      ]
    },
    {
      "metadata": {
        "trusted": true,
        "scrolled": true
      },
      "cell_type": "code",
      "source": "'a: {2}, b: {3}, c: {1}'.format('one', 'two', 'three')\n# Sai trên ở chỗ trong định nghĩa string với cú pháp string.format(), các phần tử trong format() đánh thứ tự là 0,1,2.\n# Do đó code trên bị lỗi ở chỗ, trong format() không có phần tử thứ 3 để vào vị {3} trong chuỗi string\n# -> bị lỗi tuple out of range, range lức này chỉ là 0 tới 2 hay (0,3)\n",
      "execution_count": 1,
      "outputs": [
        {
          "output_type": "error",
          "ename": "IndexError",
          "evalue": "tuple index out of range",
          "traceback": [
            "\u001b[0;31m---------------------------------------------------------------------------\u001b[0m",
            "\u001b[0;31mIndexError\u001b[0m                                Traceback (most recent call last)",
            "\u001b[0;32m<ipython-input-1-dff2dd07ae22>\u001b[0m in \u001b[0;36m<module>\u001b[0;34m\u001b[0m\n\u001b[0;32m----> 1\u001b[0;31m \u001b[0;34m'a: {2}, b: {3}, c: {1}'\u001b[0m\u001b[0;34m.\u001b[0m\u001b[0mformat\u001b[0m\u001b[0;34m(\u001b[0m\u001b[0;34m'one'\u001b[0m\u001b[0;34m,\u001b[0m \u001b[0;34m'two'\u001b[0m\u001b[0;34m,\u001b[0m \u001b[0;34m'three'\u001b[0m\u001b[0;34m)\u001b[0m\u001b[0;34m\u001b[0m\u001b[0m\n\u001b[0m",
            "\u001b[0;31mIndexError\u001b[0m: tuple index out of range"
          ]
        }
      ]
    },
    {
      "metadata": {
        "trusted": true
      },
      "cell_type": "code",
      "source": "'1: {one}, 2: {two}'.format(one=111, two=222)",
      "execution_count": 10,
      "outputs": [
        {
          "output_type": "execute_result",
          "execution_count": 10,
          "data": {
            "text/plain": "'1: 111, 2: 222'"
          },
          "metadata": {}
        }
      ]
    },
    {
      "metadata": {
        "trusted": true
      },
      "cell_type": "code",
      "source": "a = \"một\"\nb = 2\nprint('only one value: {1}'.format(a, b))\nprint('only one value: {0}'.format(a, b))",
      "execution_count": 12,
      "outputs": [
        {
          "output_type": "stream",
          "text": "only one value: 2\nonly one value: một\n",
          "name": "stdout"
        }
      ]
    },
    {
      "metadata": {
        "trusted": true
      },
      "cell_type": "code",
      "source": "a = \"một\"\nb = 2\nprint('only one value: {1}'.format(a, b/2))",
      "execution_count": 13,
      "outputs": [
        {
          "output_type": "stream",
          "text": "only one value: 1.0\n",
          "name": "stdout"
        }
      ]
    },
    {
      "metadata": {
        "trusted": true
      },
      "cell_type": "code",
      "source": "# phần định dạng\nrow_1 = '+ {:-<6} + {:-^15} + {:->10} +'.format('', '', '')\nrow_2 = '| {:<6} | {:^15} | {:>10} |'.format('ID', 'Ho va ten', 'Noi sinh')\nrow_3 = '| {:<6} | {:^15} | {:>10} |'.format('123', 'Yui Hatano', 'Japanese')\nrow_4 = '| {:<6} | {:^15} | {:>10} |'.format('6969', 'Sunny Leone', 'Canada')\nrow_5 = '+ {:-<6} + {:-^15} + {:->10} +'.format('', '', '')\n\n# phần xuất kết quả\nprint(row_1)\nprint(row_2)\nprint(row_3)\nprint(row_4)\nprint(row_5)",
      "execution_count": 14,
      "outputs": [
        {
          "output_type": "stream",
          "text": "+ ------ + --------------- + ---------- +\n| ID     |    Ho va ten    |   Noi sinh |\n| 123    |   Yui Hatano    |   Japanese |\n| 6969   |   Sunny Leone   |     Canada |\n+ ------ + --------------- + ---------- +\n",
          "name": "stdout"
        }
      ]
    },
    {
      "metadata": {
        "trusted": true,
        "scrolled": true
      },
      "cell_type": "code",
      "source": " a = input()\n b = int(a)  \nprint(type(b))",
      "execution_count": 16,
      "outputs": [
        {
          "output_type": "stream",
          "name": "stdout",
          "text": "1\n<class 'int'>\n"
        }
      ]
    },
    {
      "metadata": {
        "trusted": true
      },
      "cell_type": "code",
      "source": "tuplet = ('Vũ Thanh Tài', 22 , True)\ntype(tuplet)",
      "execution_count": 11,
      "outputs": [
        {
          "output_type": "execute_result",
          "execution_count": 11,
          "data": {
            "text/plain": "tuple"
          },
          "metadata": {}
        }
      ]
    },
    {
      "metadata": {
        "trusted": true
      },
      "cell_type": "code",
      "source": "tup = tuple([1, 2, 3])\nprint(tup,type(tup))\ntest = [1, 2, 3]\nprint(test, type(test))",
      "execution_count": 20,
      "outputs": [
        {
          "output_type": "stream",
          "text": "(1, 2, 3) <class 'tuple'>\n[1, 2, 3] <class 'list'>\n",
          "name": "stdout"
        }
      ]
    },
    {
      "metadata": {
        "trusted": true
      },
      "cell_type": "code",
      "source": "t = tuple(input()) \n#Khi nhập 1 từ bán phím, 1 được pass vào input() sẽ mặc định chuyển thành character, do đó đoạn code có thể viết lại t = type('1')\ntype(t)",
      "execution_count": 24,
      "outputs": [
        {
          "output_type": "stream",
          "name": "stdout",
          "text": "1\n"
        },
        {
          "output_type": "execute_result",
          "execution_count": 24,
          "data": {
            "text/plain": "tuple"
          },
          "metadata": {}
        }
      ]
    },
    {
      "metadata": {
        "trusted": true
      },
      "cell_type": "code",
      "source": "test = tuple(1) #vì đây là ép dữ liệu thành kiểu tuple, tuy nhiên 1 đang là int class, không có đặc tính iterable để ép thành tuple được, khác với ví dụ ngay trên\nprint(test, type(test))",
      "execution_count": 28,
      "outputs": [
        {
          "output_type": "error",
          "ename": "TypeError",
          "evalue": "'int' object is not iterable",
          "traceback": [
            "\u001b[0;31m---------------------------------------------------------------------------\u001b[0m",
            "\u001b[0;31mTypeError\u001b[0m                                 Traceback (most recent call last)",
            "\u001b[0;32m<ipython-input-28-fa3b45d4a6c1>\u001b[0m in \u001b[0;36m<module>\u001b[0;34m\u001b[0m\n\u001b[0;32m----> 1\u001b[0;31m \u001b[0mtest\u001b[0m \u001b[0;34m=\u001b[0m \u001b[0mtuple\u001b[0m\u001b[0;34m(\u001b[0m\u001b[0;36m1\u001b[0m\u001b[0;34m)\u001b[0m\u001b[0;34m\u001b[0m\u001b[0m\n\u001b[0m\u001b[1;32m      2\u001b[0m \u001b[0mprint\u001b[0m\u001b[0;34m(\u001b[0m\u001b[0mtest\u001b[0m\u001b[0;34m,\u001b[0m \u001b[0mtype\u001b[0m\u001b[0;34m(\u001b[0m\u001b[0mtest\u001b[0m\u001b[0;34m)\u001b[0m\u001b[0;34m)\u001b[0m\u001b[0;34m\u001b[0m\u001b[0m\n",
            "\u001b[0;31mTypeError\u001b[0m: 'int' object is not iterable"
          ]
        }
      ]
    },
    {
      "metadata": {
        "trusted": true
      },
      "cell_type": "code",
      "source": "a = int(input()) #Nhập vào sẽ là kiểu str tức string: chuỗi -> ép thành kiểu int: integer\na = chr(a)\na",
      "execution_count": 30,
      "outputs": [
        {
          "output_type": "stream",
          "name": "stdout",
          "text": "1\n"
        },
        {
          "output_type": "execute_result",
          "execution_count": 30,
          "data": {
            "text/plain": "'\\x01'"
          },
          "metadata": {}
        }
      ]
    },
    {
      "metadata": {
        "trusted": true
      },
      "cell_type": "code",
      "source": "print('\\u221a')",
      "execution_count": 31,
      "outputs": [
        {
          "output_type": "stream",
          "text": "√\n",
          "name": "stdout"
        }
      ]
    },
    {
      "metadata": {
        "trusted": true
      },
      "cell_type": "code",
      "source": "a = ord(\"a\")\nprint(a)\nprint(chr(a))",
      "execution_count": 34,
      "outputs": [
        {
          "output_type": "stream",
          "text": "97\na\n",
          "name": "stdout"
        }
      ]
    },
    {
      "metadata": {
        "trusted": true
      },
      "cell_type": "code",
      "source": "for i in range(0,5,2):\n    print(i)\nfor i in range(0, 5, 2):\n    print(i, end=\" \")",
      "execution_count": 3,
      "outputs": [
        {
          "output_type": "stream",
          "text": "0\n2\n4\n0 2 4 ",
          "name": "stdout"
        }
      ]
    },
    {
      "metadata": {
        "trusted": true
      },
      "cell_type": "code",
      "source": "letters = ['a', 'b', 'c', 'd']\nprint(letters)\n \nupper_letters = []\nfor letter in letters:\n    upper_letters.append(letter.upper())#Hàm append() với list truyền đối số là một đối tượng, đối tượng ở đấy gồm cả biến, hàm\nprint(upper_letters)    ",
      "execution_count": 6,
      "outputs": [
        {
          "output_type": "stream",
          "text": "['a', 'b', 'c', 'd']\n['A', 'B', 'C', 'D']\n",
          "name": "stdout"
        }
      ]
    },
    {
      "metadata": {
        "trusted": true
      },
      "cell_type": "code",
      "source": "letters = ['a', 'b', 'c', 'd']\nprint(letters)\n \nupper_letters = []\nfor letter in letters:\n    upper = letter.upper() #Giờ phải gán giá trị vào biến upper trước\n    upper_letters.append(upper)\nprint(upper_letters)    ",
      "execution_count": 7,
      "outputs": [
        {
          "output_type": "stream",
          "text": "['a', 'b', 'c', 'd']\n['A', 'B', 'C', 'D']\n",
          "name": "stdout"
        }
      ]
    },
    {
      "metadata": {
        "trusted": true
      },
      "cell_type": "code",
      "source": "# Thay vì dùng dài dòng như trên, thử dùng List Comprehension\nletters = ['a', 'b', 'c', 'd']\nprint(letters)\n \nupper_letters = [x.upper() for x in letters] # đây là List comprehesion, tuy nhiên chỉ mói gồm 2 thành tố, k có thành tố thứ 3 là if\n \nprint(upper_letters)",
      "execution_count": 5,
      "outputs": [
        {
          "output_type": "stream",
          "text": "['a', 'b', 'c', 'd']\n['A', 'B', 'C', 'D']\n",
          "name": "stdout"
        }
      ]
    },
    {
      "metadata": {
        "trusted": true
      },
      "cell_type": "code",
      "source": "# List Comprehension với đủ cả 3 thành tố: [], điều làm với kết quả trả về và list đầu vào để xử lý, điều kiện (if) nhằm chọn lọc các element của list\n\nages = [1, 34, 5, 7, 3, 57, 356]\nprint(ages)\n \nold_ages = [x for x in ages if x > 10]\nprint(old_ages)",
      "execution_count": 6,
      "outputs": [
        {
          "output_type": "stream",
          "text": "[1, 34, 5, 7, 3, 57, 356]\n[34, 57, 356]\n",
          "name": "stdout"
        }
      ]
    },
    {
      "metadata": {
        "trusted": true
      },
      "cell_type": "code",
      "source": "letters = ['a', 'b', 'c', 'd', 2]\nprint(letters)\n\nupper_letters = [x.upper() for x in letters] # Cái này là dùng list Comprehension, tuy nhiên trường hợp này 2 không thể upper() -> lỗi\nprint(upper_letters)",
      "execution_count": 3,
      "outputs": [
        {
          "output_type": "stream",
          "text": "['a', 'b', 'c', 'd', 2]\n",
          "name": "stdout"
        },
        {
          "output_type": "error",
          "ename": "AttributeError",
          "evalue": "'int' object has no attribute 'upper'",
          "traceback": [
            "\u001b[0;31m---------------------------------------------------------------------------\u001b[0m",
            "\u001b[0;31mAttributeError\u001b[0m                            Traceback (most recent call last)",
            "\u001b[0;32m<ipython-input-3-7f4a3058f13c>\u001b[0m in \u001b[0;36m<module>\u001b[0;34m\u001b[0m\n\u001b[1;32m      2\u001b[0m \u001b[0mprint\u001b[0m\u001b[0;34m(\u001b[0m\u001b[0mletters\u001b[0m\u001b[0;34m)\u001b[0m\u001b[0;34m\u001b[0m\u001b[0m\n\u001b[1;32m      3\u001b[0m \u001b[0;34m\u001b[0m\u001b[0m\n\u001b[0;32m----> 4\u001b[0;31m \u001b[0mupper_letters\u001b[0m \u001b[0;34m=\u001b[0m \u001b[0;34m[\u001b[0m\u001b[0mx\u001b[0m\u001b[0;34m.\u001b[0m\u001b[0mupper\u001b[0m\u001b[0;34m(\u001b[0m\u001b[0;34m)\u001b[0m \u001b[0;32mfor\u001b[0m \u001b[0mx\u001b[0m \u001b[0;32min\u001b[0m \u001b[0mletters\u001b[0m\u001b[0;34m]\u001b[0m\u001b[0;34m\u001b[0m\u001b[0m\n\u001b[0m\u001b[1;32m      5\u001b[0m \u001b[0mprint\u001b[0m\u001b[0;34m(\u001b[0m\u001b[0mupper_letters\u001b[0m\u001b[0;34m)\u001b[0m\u001b[0;34m\u001b[0m\u001b[0m\n",
            "\u001b[0;32m<ipython-input-3-7f4a3058f13c>\u001b[0m in \u001b[0;36m<listcomp>\u001b[0;34m(.0)\u001b[0m\n\u001b[1;32m      2\u001b[0m \u001b[0mprint\u001b[0m\u001b[0;34m(\u001b[0m\u001b[0mletters\u001b[0m\u001b[0;34m)\u001b[0m\u001b[0;34m\u001b[0m\u001b[0m\n\u001b[1;32m      3\u001b[0m \u001b[0;34m\u001b[0m\u001b[0m\n\u001b[0;32m----> 4\u001b[0;31m \u001b[0mupper_letters\u001b[0m \u001b[0;34m=\u001b[0m \u001b[0;34m[\u001b[0m\u001b[0mx\u001b[0m\u001b[0;34m.\u001b[0m\u001b[0mupper\u001b[0m\u001b[0;34m(\u001b[0m\u001b[0;34m)\u001b[0m \u001b[0;32mfor\u001b[0m \u001b[0mx\u001b[0m \u001b[0;32min\u001b[0m \u001b[0mletters\u001b[0m\u001b[0;34m]\u001b[0m\u001b[0;34m\u001b[0m\u001b[0m\n\u001b[0m\u001b[1;32m      5\u001b[0m \u001b[0mprint\u001b[0m\u001b[0;34m(\u001b[0m\u001b[0mupper_letters\u001b[0m\u001b[0;34m)\u001b[0m\u001b[0;34m\u001b[0m\u001b[0m\n",
            "\u001b[0;31mAttributeError\u001b[0m: 'int' object has no attribute 'upper'"
          ]
        }
      ]
    },
    {
      "metadata": {
        "trusted": true
      },
      "cell_type": "code",
      "source": "# Thử nghiệm với try - except\n# Với hàm nàyta có thể quy định khi xảy ra lỗi trong 1 vòng progame sẽ làm gì, có thể pass (bỏ qua) như ví dụ thay vì bị lỗi không chạy được\nletters = ['a', 'b', 'c', 'd', 1]\nprint(letters)\n \nupper_letters = []\n \nfor letter in letters:\n     try:\n         result = letter.upper()\n         upper_letters.append(result)\n     except AttributeError:\n         pass # do nothing\n \nprint(upper_letters)",
      "execution_count": 4,
      "outputs": [
        {
          "output_type": "stream",
          "text": "['a', 'b', 'c', 'd', 1]\n['A', 'B', 'C', 'D']\n",
          "name": "stdout"
        }
      ]
    },
    {
      "metadata": {
        "trusted": true
      },
      "cell_type": "code",
      "source": "for i in range(0,5):\n    print(i)",
      "execution_count": 2,
      "outputs": [
        {
          "output_type": "stream",
          "text": "0\n1\n2\n3\n4\n",
          "name": "stdout"
        }
      ]
    }
  ],
  "metadata": {
    "kernelspec": {
      "name": "python36",
      "display_name": "Python 3.6",
      "language": "python"
    },
    "language_info": {
      "mimetype": "text/x-python",
      "nbconvert_exporter": "python",
      "name": "python",
      "pygments_lexer": "ipython3",
      "version": "3.6.6",
      "file_extension": ".py",
      "codemirror_mode": {
        "version": 3,
        "name": "ipython"
      }
    }
  },
  "nbformat": 4,
  "nbformat_minor": 2
}